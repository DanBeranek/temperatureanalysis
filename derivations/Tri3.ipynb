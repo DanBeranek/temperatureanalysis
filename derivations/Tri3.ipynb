{
 "cells": [
  {
   "metadata": {},
   "cell_type": "markdown",
   "source": "# Derivation of the Tri3 element",
   "id": "6b3dbbf874eeb888"
  },
  {
   "cell_type": "code",
   "id": "initial_id",
   "metadata": {
    "collapsed": true,
    "ExecuteTime": {
     "end_time": "2025-07-08T10:59:44.287554Z",
     "start_time": "2025-07-08T10:59:39.406197Z"
    }
   },
   "source": [
    "import numpy as np\n",
    "import sympy as smp\n",
    "smp.init_printing()\n",
    "from IPython.display import display, Math"
   ],
   "outputs": [],
   "execution_count": 1
  },
  {
   "metadata": {},
   "cell_type": "markdown",
   "source": "## Step 1: Define the Interpolation Functions",
   "id": "87ab92f2fa95e698"
  },
  {
   "metadata": {},
   "cell_type": "markdown",
   "source": "",
   "id": "97d0ac56983e5b61"
  },
  {
   "metadata": {
    "ExecuteTime": {
     "end_time": "2025-07-08T11:03:37.297467Z",
     "start_time": "2025-07-08T11:03:37.095831Z"
    }
   },
   "cell_type": "code",
   "source": [
    "x1, x2, x3, y1, y2, y3 = smp.symbols('x_1 x_2 x_3 y_1 y_2 y_3')\n",
    "r, s = smp.symbols('r s')\n",
    "\n",
    "# Define the shape functions for the Tri3 element\n",
    "N1 = (1 - r - s)\n",
    "N2 = r\n",
    "N3 = s\n",
    "\n",
    "display(Math(f\"N_1 = {smp.latex(N1)}\"))\n",
    "display(Math(f\"N_2 = {smp.latex(N2)}\"))\n",
    "display(Math(f\"N_3 = {smp.latex(N3)}\"))"
   ],
   "id": "4e120053d5ba68c4",
   "outputs": [
    {
     "data": {
      "text/plain": [
       "<IPython.core.display.Math object>"
      ],
      "text/latex": "$\\displaystyle N_1 = - r - s + 1$"
     },
     "metadata": {},
     "output_type": "display_data"
    },
    {
     "data": {
      "text/plain": [
       "<IPython.core.display.Math object>"
      ],
      "text/latex": "$\\displaystyle N_2 = r$"
     },
     "metadata": {},
     "output_type": "display_data"
    },
    {
     "data": {
      "text/plain": [
       "<IPython.core.display.Math object>"
      ],
      "text/latex": "$\\displaystyle N_3 = s$"
     },
     "metadata": {},
     "output_type": "display_data"
    }
   ],
   "execution_count": 2
  },
  {
   "metadata": {},
   "cell_type": "markdown",
   "source": "## Step 2: Relate the (x, y) Local Coordinate System to the (r, s) Natural Coordinate System",
   "id": "64f808871fa96d51"
  },
  {
   "metadata": {
    "ExecuteTime": {
     "end_time": "2025-07-08T11:05:50.728282Z",
     "start_time": "2025-07-08T11:05:50.713833Z"
    }
   },
   "cell_type": "code",
   "source": [
    "x = N1 * x1 + N2 * x2 + N3 * x3\n",
    "y = N1 * y1 + N2 * y2 + N3 * y3\n",
    "\n",
    "display(Math(f\"x = {smp.latex(x)}\"))\n",
    "display(Math(f\"y = {smp.latex(y)}\"))"
   ],
   "id": "322207282eac8c47",
   "outputs": [
    {
     "data": {
      "text/plain": [
       "<IPython.core.display.Math object>"
      ],
      "text/latex": "$\\displaystyle x = r x_{2} + s x_{3} + x_{1} \\left(- r - s + 1\\right)$"
     },
     "metadata": {},
     "output_type": "display_data"
    },
    {
     "data": {
      "text/plain": [
       "<IPython.core.display.Math object>"
      ],
      "text/latex": "$\\displaystyle y = r y_{2} + s y_{3} + y_{1} \\left(- r - s + 1\\right)$"
     },
     "metadata": {},
     "output_type": "display_data"
    }
   ],
   "execution_count": 3
  },
  {
   "metadata": {},
   "cell_type": "markdown",
   "source": "## Step 3: Compute the Jacobian Matrix",
   "id": "2241ad7cf1eb0902"
  },
  {
   "metadata": {
    "ExecuteTime": {
     "end_time": "2025-07-08T11:14:48.891403Z",
     "start_time": "2025-07-08T11:14:48.884815Z"
    }
   },
   "cell_type": "code",
   "source": [
    "J = smp.Matrix([\n",
    "    [smp.diff(x, r), smp.diff(y, r)],\n",
    "    [smp.diff(x, s), smp.diff(y, s)]\n",
    "])\n",
    "\n",
    "display(Math(f\"J = {smp.latex(J)}\"))"
   ],
   "id": "6fb965a5b0915bc6",
   "outputs": [
    {
     "data": {
      "text/plain": [
       "<IPython.core.display.Math object>"
      ],
      "text/latex": "$\\displaystyle J = \\left[\\begin{matrix}- x_{1} + x_{2} & - y_{1} + y_{2}\\\\- x_{1} + x_{3} & - y_{1} + y_{3}\\end{matrix}\\right]$"
     },
     "metadata": {},
     "output_type": "display_data"
    }
   ],
   "execution_count": 10
  },
  {
   "metadata": {},
   "cell_type": "markdown",
   "source": "## Step 4: Find the [B] Matrix",
   "id": "8dea02fe914207f7"
  },
  {
   "metadata": {
    "ExecuteTime": {
     "end_time": "2025-07-08T11:12:34.832759Z",
     "start_time": "2025-07-08T11:12:34.826332Z"
    }
   },
   "cell_type": "code",
   "source": [
    "B_N = smp.Matrix([\n",
    "    [smp.diff(N1, r), smp.diff(N2, r), smp.diff(N3, r)],\n",
    "    [smp.diff(N1, s), smp.diff(N2, s), smp.diff(N3, s)],\n",
    "])\n",
    "\n",
    "display(Math(f\"B_N = {smp.latex(B_N)}\"))"
   ],
   "id": "ca593095c67ba2f1",
   "outputs": [
    {
     "data": {
      "text/plain": [
       "<IPython.core.display.Math object>"
      ],
      "text/latex": "$\\displaystyle B_N = \\left[\\begin{matrix}-1 & 1 & 0\\\\-1 & 0 & 1\\end{matrix}\\right]$"
     },
     "metadata": {},
     "output_type": "display_data"
    }
   ],
   "execution_count": 7
  },
  {
   "metadata": {
    "ExecuteTime": {
     "end_time": "2025-07-08T11:13:07.385837Z",
     "start_time": "2025-07-08T11:13:07.364117Z"
    }
   },
   "cell_type": "code",
   "source": "B_N * smp.Matrix([[x1, x2, x3], [y1, y2, y3]])",
   "id": "fe91227664f2a88c",
   "outputs": [
    {
     "data": {
      "text/plain": [
       "⎡-x₁ + x₂  -y₁ + y₂⎤\n",
       "⎢                  ⎥\n",
       "⎣-x₁ + x₃  -y₁ + y₃⎦"
      ],
      "text/latex": "$\\displaystyle \\left[\\begin{matrix}- x_{1} + x_{2} & - y_{1} + y_{2}\\\\- x_{1} + x_{3} & - y_{1} + y_{3}\\end{matrix}\\right]$"
     },
     "execution_count": 9,
     "metadata": {},
     "output_type": "execute_result"
    }
   ],
   "execution_count": 9
  },
  {
   "metadata": {
    "ExecuteTime": {
     "end_time": "2025-07-08T11:17:33.725304Z",
     "start_time": "2025-07-08T11:17:33.715736Z"
    }
   },
   "cell_type": "code",
   "source": [
    "N = smp.Matrix([[N1, N2, N3]])\n",
    "display(Math(f\"N = {smp.latex(N)}\"))"
   ],
   "id": "a53df5446cccacf8",
   "outputs": [
    {
     "data": {
      "text/plain": [
       "<IPython.core.display.Math object>"
      ],
      "text/latex": "$\\displaystyle N = \\left[\\begin{matrix}- r - s + 1 & r & s\\end{matrix}\\right]$"
     },
     "metadata": {},
     "output_type": "display_data"
    }
   ],
   "execution_count": 14
  },
  {
   "metadata": {
    "ExecuteTime": {
     "end_time": "2025-07-08T11:32:49.259092Z",
     "start_time": "2025-07-08T11:32:49.051549Z"
    }
   },
   "cell_type": "code",
   "source": "J.det().factor(x1, x2, x3)",
   "id": "767927ad679dfbdb",
   "outputs": [
    {
     "data": {
      "text/plain": [
       "x₁⋅(y₂ - y₃) + x₂⋅(-y₁ + y₃) + x₃⋅(y₁ - y₂)"
      ],
      "image/png": "[encoded data removed]",
      "text/latex": "$\\displaystyle x_{1} \\left(y_{2} - y_{3}\\right) + x_{2} \\left(- y_{1} + y_{3}\\right) + x_{3} \\left(y_{1} - y_{2}\\right)$"
     },
     "execution_count": 19,
     "metadata": {},
     "output_type": "execute_result"
    }
   ],
   "execution_count": 19
  },
  {
   "metadata": {},
   "cell_type": "code",
   "outputs": [],
   "execution_count": null,
   "source": "",
   "id": "feedaba21561c1ca"
  }
 ],
 "metadata": {
  "kernelspec": {
   "display_name": "Python 3",
   "language": "python",
   "name": "python3"
  },
  "language_info": {
   "codemirror_mode": {
    "name": "ipython",
    "version": 2
   },
   "file_extension": ".py",
   "mimetype": "text/x-python",
   "name": "python",
   "nbconvert_exporter": "python",
   "pygments_lexer": "ipython2",
   "version": "2.7.6"
  }
 },
 "nbformat": 4,
 "nbformat_minor": 5
}
